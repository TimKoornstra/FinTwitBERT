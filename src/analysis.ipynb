{
 "cells": [
  {
   "cell_type": "markdown",
   "metadata": {},
   "source": [
    "# Analysis of FinTwitBERT-sentiment\n",
    "This notebook provides an analysis of the FinTwitBERT-sentiment dataset. The dataset is a collection of tweets from the financial domain, which have been annotated with sentiment labels. The dataset is available on [HuggingFace](https://huggingface.co/datasets/TimKoornstra/financial-tweets-sentiment).\n",
    "\n",
    "## Interpretability Methods\n",
    "The notebook uses the following interpretability methods:\n",
    "- LIME\n",
    "- SHAP\n",
    "\n",
    "## Setup\n",
    "The notebook uses the following libraries, not mentioned in the requirements.txt:\n",
    "- ipywidgets\n",
    "- lime\n",
    "- shap\n",
    "\n",
    "To install these libraries, run the following command:\n",
    "```\n",
    "pip install ipywidgets lime shap\n",
    "```"
   ]
  },
  {
   "cell_type": "code",
   "execution_count": null,
   "metadata": {},
   "outputs": [],
   "source": [
    "from transformers import AutoTokenizer, AutoModelForSequenceClassification, pipeline\n",
    "\n",
    "tokenizer = AutoTokenizer.from_pretrained(\"StephanAkkerman/FinTwitBERT-sentiment\")\n",
    "labels = [\"NEUTRAL\", \"BULLISH\", \"BEARISH\"]\n",
    "model = AutoModelForSequenceClassification.from_pretrained(\n",
    "    \"StephanAkkerman/FinTwitBERT-sentiment\",\n",
    "    num_labels=len(labels),\n",
    "    id2label={k: v for k, v in enumerate(labels)},\n",
    "    label2id={v: k for k, v in enumerate(labels)},\n",
    ")\n",
    "\n",
    "pipe = pipeline(\n",
    "    \"text-classification\",\n",
    "    model=model,\n",
    "    tokenizer=tokenizer,\n",
    "    device=0,\n",
    "    top_k=None #return_all_scores=True,\n",
    ")"
   ]
  },
  {
   "cell_type": "code",
   "execution_count": null,
   "metadata": {},
   "outputs": [],
   "source": [
    "# LIME implementation based on: https://github.com/marcotcr/lime/issues/356#issuecomment-752983134\n",
    "import torch.nn.functional as F\n",
    "from lime.lime_text import LimeTextExplainer\n",
    "import numpy as np\n",
    "str_to_predict = \"surprising increase in revenue in spite of decrease in market share\"\n",
    "\n",
    "def predictor(texts):\n",
    "    # Extract scores in same order as labels\n",
    "    scores = [[next(d['score'] for d in inner_list if d['label'] == label) for label in labels] for inner_list in pipe(texts)]\n",
    "    return np.array(scores)\n",
    "\n",
    "lime_explainer = LimeTextExplainer(class_names=labels)\n",
    "\n",
    "exp = lime_explainer.explain_instance(\n",
    "    str_to_predict, predictor, num_features=20, num_samples=2000\n",
    ")\n",
    "exp.show_in_notebook(text=str_to_predict)"
   ]
  },
  {
   "cell_type": "code",
   "execution_count": null,
   "metadata": {},
   "outputs": [],
   "source": [
    "# SHAP implementation based on: https://github.com/PacktPublishing/Applied-Machine-Learning-Explainability-Techniques/blob/main/Chapter07/Explaining_Transformers.ipynb\n",
    "import shap\n",
    "def score_and_visualize(text, shap_values):\n",
    "    prediction = pipe(text)\n",
    "    # Get index of label\n",
    "    label_index = labels.index(prediction[0][0][\"label\"])\n",
    "    print(f\"Model predictions are: {prediction}\")\n",
    "    \n",
    "    shap.plots.text(shap_values)\n",
    "    #shap.summary_plot(shap_values.values)\n",
    "    shap.plots.bar(shap_values[0,:,label_index])    \n",
    "    #shap.plots.waterfall(shap_values[0,:,label_index])\n",
    "    \n",
    "text = [\"surprising increase in revenue in spite of decrease in market share\"]\n",
    "\n",
    "# SHAP Explainer\n",
    "explainer = shap.Explainer(pipe)\n",
    "shap_values = explainer(text)\n",
    "score_and_visualize(text, shap_values)\n"
   ]
  },
  {
   "cell_type": "code",
   "execution_count": null,
   "metadata": {},
   "outputs": [],
   "source": []
  }
 ],
 "metadata": {
  "kernelspec": {
   "display_name": "Sentiment",
   "language": "python",
   "name": "python3"
  },
  "language_info": {
   "codemirror_mode": {
    "name": "ipython",
    "version": 3
   },
   "file_extension": ".py",
   "mimetype": "text/x-python",
   "name": "python",
   "nbconvert_exporter": "python",
   "pygments_lexer": "ipython3",
   "version": "3.10.12"
  }
 },
 "nbformat": 4,
 "nbformat_minor": 2
}
